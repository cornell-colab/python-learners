{
 "cells": [
  {
   "cell_type": "code",
   "execution_count": null,
   "id": "c08abbbe",
   "metadata": {},
   "outputs": [],
   "source": [
    "list_a = ['apple', 'banana', 'orange']\n",
    "string_a = 'cauliflower'\n",
    "\n",
    "print('apple' in list_a)\n",
    "print('app' in list_a)\n",
    "print('broccoli' in string_a)\n",
    "print('flower' in string_a)"
   ]
  },
  {
   "cell_type": "code",
   "execution_count": null,
   "id": "327f8f25-eb64-4401-a2fa-5fc3d1bdc03a",
   "metadata": {},
   "outputs": [],
   "source": [
    "import csv #Python doesn't read CSV files by default, we have to import that functionality from a library\n",
    "dish_list = [] #creating a new empty list for appending later\n",
    "\n",
    "with open('Dish.csv', encoding=\"utf-8\") as csvfile: #\"with open\" opens the ile in a safe way\n",
    "    dishreader = csv.reader(csvfile, delimiter=',', quotechar='|') #dishreader is a \"csv reader object\" with more complexity than the data types we have covered so far\n",
    "    for row in dishreader: #dishreader is not a list, even though we can treat it like one here\n",
    "        dish_list.append(row[1]) #each row is a list of elements by column, the name of the dish is in the second column"
   ]
  },
  {
   "cell_type": "code",
   "execution_count": null,
   "id": "bdb5e06d",
   "metadata": {},
   "outputs": [],
   "source": [
    "print(len(dish_list))\n",
    "print(dish_list[99999])"
   ]
  },
  {
   "cell_type": "code",
   "execution_count": null,
   "id": "dff5c7a1",
   "metadata": {},
   "outputs": [],
   "source": [
    "for dish in dish_list:\n",
    "    if \"salad\" in dish:\n",
    "        print(dish)"
   ]
  }
 ],
 "metadata": {
  "kernelspec": {
   "display_name": "Python 3 (ipykernel)",
   "language": "python",
   "name": "python3"
  },
  "language_info": {
   "codemirror_mode": {
    "name": "ipython",
    "version": 3
   },
   "file_extension": ".py",
   "mimetype": "text/x-python",
   "name": "python",
   "nbconvert_exporter": "python",
   "pygments_lexer": "ipython3",
   "version": "3.9.12"
  }
 },
 "nbformat": 4,
 "nbformat_minor": 5
}
