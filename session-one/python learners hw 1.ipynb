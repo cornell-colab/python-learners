{
 "cells": [
  {
   "cell_type": "markdown",
   "id": "7f45594d",
   "metadata": {},
   "source": [
    "**Using string slicing, select the portion of this filename containing the year, month, and day, storing those values in the variables provided. Run the following cell to check your work.**\n",
    "\n",
    "*Optional: use string concatination to make the year \"2022\" instead of just \"22\"*\n",
    "\n",
    "*Optional: create new variable(s) to capture the time as well, formatting it as a time with colons instead of hyphens*"
   ]
  },
  {
   "cell_type": "code",
   "execution_count": null,
   "id": "e37028aa",
   "metadata": {},
   "outputs": [],
   "source": [
    "filename = \"ScreenShot_22-03-16_11-12-21-000.jpg\"\n",
    "\n",
    "#edit the code below\n",
    "year = filename[]\n",
    "month = filename[]\n",
    "day = filename[]"
   ]
  },
  {
   "cell_type": "code",
   "execution_count": null,
   "id": "b28c69f7",
   "metadata": {},
   "outputs": [],
   "source": [
    "print('The year this file was created was: ' + str(year))\n",
    "print('The month this file was created was: ' + str(month))\n",
    "print('The day this file was created was: ' + str(day))"
   ]
  },
  {
   "cell_type": "markdown",
   "id": "cac06d74",
   "metadata": {},
   "source": [
    "**Using list addressing, select *one* item from each list and store that value in the variables provided. Run the following cell to check your work. (The backslashes are a way to split one long line into multiple lines for easier readability.)**\n",
    "\n",
    "*Optional: add a new element into any of these lists without editing the list directly*"
   ]
  },
  {
   "cell_type": "code",
   "execution_count": null,
   "id": "8c0d162b",
   "metadata": {},
   "outputs": [],
   "source": [
    "foods = [['gala', 'fuji', 'honeycrisp', 'pink lady'], \\\n",
    "         ['almond', 'cashew', 'macadamia', 'pecan', 'pistachio', 'walnut'], \\\n",
    "         ['rice', 'wheat', 'corn', 'soybean', 'potato']]\n",
    "\n",
    "#edit the code below\n",
    "apple = foods[]\n",
    "tree_nut = foods[]\n",
    "staple_crop = foods[]"
   ]
  },
  {
   "cell_type": "code",
   "execution_count": null,
   "id": "6863d757",
   "metadata": {},
   "outputs": [],
   "source": [
    "print('The apple I chose is: ' + apple)\n",
    "print('The tree nut I chose is: ' + tree_nut)\n",
    "print('The staple crop I chose is: ' + staple_crop)"
   ]
  }
 ],
 "metadata": {
  "kernelspec": {
   "display_name": "Python 3 (ipykernel)",
   "language": "python",
   "name": "python3"
  },
  "language_info": {
   "codemirror_mode": {
    "name": "ipython",
    "version": 3
   },
   "file_extension": ".py",
   "mimetype": "text/x-python",
   "name": "python",
   "nbconvert_exporter": "python",
   "pygments_lexer": "ipython3",
   "version": "3.9.12"
  }
 },
 "nbformat": 4,
 "nbformat_minor": 5
}
